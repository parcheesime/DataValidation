{
 "cells": [
  {
   "cell_type": "markdown",
   "metadata": {},
   "source": [
    "## Pandas data frame\n",
    "\n",
    "Data Validation/ingestions\n",
    "\n",
    "Write pipe separated text file | \n",
    "\n",
    "Explore text file\n",
    "\n",
    "GZIP text file"
   ]
  },
  {
   "cell_type": "code",
   "execution_count": 4,
   "metadata": {},
   "outputs": [],
   "source": [
    "import logging\n",
    "import os\n",
    "import subprocess\n",
    "import yaml\n",
    "import pandas as pd\n",
    "import numpy as np\n",
    "import datetime \n",
    "import gc\n",
    "import re\n",
    "import csv"
   ]
  },
  {
   "cell_type": "markdown",
   "metadata": {},
   "source": [
    "Column validation function"
   ]
  },
  {
   "cell_type": "code",
   "execution_count": 5,
   "metadata": {},
   "outputs": [],
   "source": [
    "def val_data_col():\n",
    "    # clean up df columns #\n",
    "    dfd.columns=dfd.columns.str.replace('[?]', '')\n",
    "    dfd.columns=dfd.columns.str.strip()\n",
    "    dfd.columns=dfd.columns.str.replace('[ ]', '_')\n",
    "    dfd.columns=dfd.columns.str.lower()\n",
    "    # compare yaml columns with df columns #\n",
    "    expected_columns = list(file['columns'])\n",
    "    if len(dfd.columns) == len(expected_columns) and list(dfd.columns) == expected_columns:\n",
    "        print('column name and column length validation passed')\n",
    "        mismatched_columns_file = list(set(dfd.columns).difference(expected_columns))\n",
    "        print(\"Following File columns are not in the YAML file\",mismatched_columns_file)\n",
    "        missing_YAML_file = list(set(expected_columns).difference(dfd.columns))\n",
    "        print(\"Following YAML columns are not in the file uploaded\",missing_YAML_file)\n",
    "        logging.info(f'df columns: {dfd.columns}')\n",
    "        logging.info(f'expected columns: {expected_columns}')\n",
    "        return 1\n",
    "    else:\n",
    "        print('column name and column length validation failed')\n",
    "\n",
    "    return 0"
   ]
  },
  {
   "cell_type": "markdown",
   "metadata": {},
   "source": [
    "Begin tracing load times and memory use"
   ]
  },
  {
   "cell_type": "code",
   "execution_count": 6,
   "metadata": {},
   "outputs": [
    {
     "name": "stderr",
     "output_type": "stream",
     "text": [
      "C:\\Users\\nunto\\AppData\\Local\\Temp\\ipykernel_13292\\28789275.py:4: DtypeWarning: Columns (18,29,38,40,41,42) have mixed types. Specify dtype option on import or set low_memory=False.\n",
      "  dfd = pd.read_csv('Parking_Violations_2015.csv', delimiter=',')\n"
     ]
    }
   ],
   "source": [
    "import pandas as pd\n",
    "import tracemalloc\n",
    "tracemalloc.start()\n",
    "dfd = pd.read_csv('Parking_Violations_2015.csv', delimiter=',')\n",
    "dfd\n",
    "snapshot=tracemalloc.take_snapshot()\n",
    "tracemalloc.stop()"
   ]
  },
  {
   "cell_type": "code",
   "execution_count": 7,
   "metadata": {},
   "outputs": [
    {
     "name": "stdout",
     "output_type": "stream",
     "text": [
      "9 memory blocks: 4705241.6 KiB\n",
      "  File \"C:\\Users\\nunto\\AppData\\Local\\Packages\\PythonSoftwareFoundation.Python.3.9_qbz5n2kfra8p0\\LocalCache\\local-packages\\Python39\\site-packages\\pandas\\core\\internals\\managers.py\", line 2118\n",
      "    new_values = new_values[argsort]\n"
     ]
    }
   ],
   "source": [
    "top_stats=snapshot.statistics('traceback')\n",
    "# pick the biggest memory block\n",
    "stat = top_stats[0]\n",
    "print(\"%s memory blocks: %.1f KiB\" % (stat.count, stat.size / 1024))\n",
    "for line in stat.traceback.format():\n",
    "    print(line)"
   ]
  },
  {
   "cell_type": "markdown",
   "metadata": {},
   "source": [
    "Open yaml file"
   ]
  },
  {
   "cell_type": "code",
   "execution_count": 8,
   "metadata": {},
   "outputs": [],
   "source": [
    "with open('file.yaml', 'r') as f:\n",
    "    file = yaml.safe_load(f)\n",
    "    file"
   ]
  },
  {
   "cell_type": "markdown",
   "metadata": {},
   "source": [
    "Drop unwanted columns"
   ]
  },
  {
   "cell_type": "code",
   "execution_count": 9,
   "metadata": {},
   "outputs": [],
   "source": [
    "dfd=dfd.drop([\"BIN\", \"BBL\", \"NTA\"], axis=1)\n",
    "dfd=dfd.drop([\"Latitude\", \"Longitude\", \"Community Board\", \"Community Council \", \"Census Tract\"], axis=1)"
   ]
  },
  {
   "cell_type": "markdown",
   "metadata": {},
   "source": [
    "Validate csv columns"
   ]
  },
  {
   "cell_type": "code",
   "execution_count": 10,
   "metadata": {},
   "outputs": [
    {
     "name": "stdout",
     "output_type": "stream",
     "text": [
      "column name and column length validation passed\n",
      "Following File columns are not in the YAML file []\n",
      "Following YAML columns are not in the file uploaded []\n"
     ]
    },
    {
     "name": "stderr",
     "output_type": "stream",
     "text": [
      "C:\\Users\\nunto\\AppData\\Local\\Temp\\ipykernel_13292\\630901633.py:3: FutureWarning: The default value of regex will change from True to False in a future version.\n",
      "  dfd.columns=dfd.columns.str.replace('[?]', '')\n",
      "C:\\Users\\nunto\\AppData\\Local\\Temp\\ipykernel_13292\\630901633.py:5: FutureWarning: The default value of regex will change from True to False in a future version.\n",
      "  dfd.columns=dfd.columns.str.replace('[ ]', '_')\n"
     ]
    },
    {
     "data": {
      "text/plain": [
       "1"
      ]
     },
     "execution_count": 10,
     "metadata": {},
     "output_type": "execute_result"
    }
   ],
   "source": [
    "val_data_col()"
   ]
  },
  {
   "cell_type": "markdown",
   "metadata": {},
   "source": [
    "Create pipe-separated text file"
   ]
  },
  {
   "cell_type": "code",
   "execution_count": null,
   "metadata": {},
   "outputs": [],
   "source": [
    "dfd.to_csv('validated2.txt', sep='|')"
   ]
  }
 ],
 "metadata": {
  "kernelspec": {
   "display_name": "Python 3.9.13 64-bit (windows store)",
   "language": "python",
   "name": "python3"
  },
  "language_info": {
   "codemirror_mode": {
    "name": "ipython",
    "version": 3
   },
   "file_extension": ".py",
   "mimetype": "text/x-python",
   "name": "python",
   "nbconvert_exporter": "python",
   "pygments_lexer": "ipython3",
   "version": "3.9.13"
  },
  "orig_nbformat": 4,
  "vscode": {
   "interpreter": {
    "hash": "8ad3b4ca62056b0ddf6609e8c0d475b5225220fb28d68e3e23627eb1e1c7d9eb"
   }
  }
 },
 "nbformat": 4,
 "nbformat_minor": 2
}
