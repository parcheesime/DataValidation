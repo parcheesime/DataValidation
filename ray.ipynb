{
 "cells": [
  {
   "cell_type": "markdown",
   "metadata": {},
   "source": [
    "# File ingestion and schema validation\n",
    "\n",
    "> [ray]('ray.io')\n",
    "\n",
    "> [modin]('https://modin.readthedocs.io/en/stable/')"
   ]
  },
  {
   "cell_type": "code",
   "execution_count": 2,
   "metadata": {},
   "outputs": [
    {
     "ename": "OSError",
     "evalue": "[Errno 0] AssignProcessToJobObject() failed",
     "output_type": "error",
     "traceback": [
      "\u001b[1;31m---------------------------------------------------------------------------\u001b[0m",
      "\u001b[1;31mOSError\u001b[0m                                   Traceback (most recent call last)",
      "\u001b[1;32mc:\\Users\\nunto\\Jupyter Projects\\DataValidation\\ray.ipynb Cell 2\u001b[0m in \u001b[0;36m<cell line: 3>\u001b[1;34m()\u001b[0m\n\u001b[0;32m      <a href='vscode-notebook-cell:/c%3A/Users/nunto/Jupyter%20Projects/DataValidation/ray.ipynb#W1sZmlsZQ%3D%3D?line=0'>1</a>\u001b[0m \u001b[39mimport\u001b[39;00m \u001b[39mmodin\u001b[39;00m\u001b[39m.\u001b[39;00m\u001b[39mpandas\u001b[39;00m \u001b[39mas\u001b[39;00m \u001b[39mpd\u001b[39;00m\n\u001b[0;32m      <a href='vscode-notebook-cell:/c%3A/Users/nunto/Jupyter%20Projects/DataValidation/ray.ipynb#W1sZmlsZQ%3D%3D?line=1'>2</a>\u001b[0m \u001b[39mimport\u001b[39;00m \u001b[39mray\u001b[39;00m\n\u001b[1;32m----> <a href='vscode-notebook-cell:/c%3A/Users/nunto/Jupyter%20Projects/DataValidation/ray.ipynb#W1sZmlsZQ%3D%3D?line=2'>3</a>\u001b[0m ray\u001b[39m.\u001b[39;49minit()\n\u001b[0;32m      <a href='vscode-notebook-cell:/c%3A/Users/nunto/Jupyter%20Projects/DataValidation/ray.ipynb#W1sZmlsZQ%3D%3D?line=3'>4</a>\u001b[0m rdf \u001b[39m=\u001b[39m pd\u001b[39m.\u001b[39mread_csv(\u001b[39m'\u001b[39m\u001b[39mParking_Violations_2015.csv\u001b[39m\u001b[39m'\u001b[39m)\n",
      "File \u001b[1;32m~\\AppData\\Local\\Packages\\PythonSoftwareFoundation.Python.3.9_qbz5n2kfra8p0\\LocalCache\\local-packages\\Python39\\site-packages\\ray\\_private\\client_mode_hook.py:105\u001b[0m, in \u001b[0;36mclient_mode_hook.<locals>.wrapper\u001b[1;34m(*args, **kwargs)\u001b[0m\n\u001b[0;32m    103\u001b[0m     \u001b[39mif\u001b[39;00m func\u001b[39m.\u001b[39m\u001b[39m__name__\u001b[39m \u001b[39m!=\u001b[39m \u001b[39m\"\u001b[39m\u001b[39minit\u001b[39m\u001b[39m\"\u001b[39m \u001b[39mor\u001b[39;00m is_client_mode_enabled_by_default:\n\u001b[0;32m    104\u001b[0m         \u001b[39mreturn\u001b[39;00m \u001b[39mgetattr\u001b[39m(ray, func\u001b[39m.\u001b[39m\u001b[39m__name__\u001b[39m)(\u001b[39m*\u001b[39margs, \u001b[39m*\u001b[39m\u001b[39m*\u001b[39mkwargs)\n\u001b[1;32m--> 105\u001b[0m \u001b[39mreturn\u001b[39;00m func(\u001b[39m*\u001b[39margs, \u001b[39m*\u001b[39m\u001b[39m*\u001b[39mkwargs)\n",
      "File \u001b[1;32m~\\AppData\\Local\\Packages\\PythonSoftwareFoundation.Python.3.9_qbz5n2kfra8p0\\LocalCache\\local-packages\\Python39\\site-packages\\ray\\worker.py:1022\u001b[0m, in \u001b[0;36minit\u001b[1;34m(address, num_cpus, num_gpus, resources, object_store_memory, local_mode, ignore_reinit_error, include_dashboard, dashboard_host, dashboard_port, job_config, configure_logging, logging_level, logging_format, log_to_driver, namespace, runtime_env, storage, _enable_object_reconstruction, _redis_max_memory, _plasma_directory, _node_ip_address, _driver_object_store_memory, _memory, _redis_password, _temp_dir, _metrics_export_port, _system_config, _tracing_startup_hook, **kwargs)\u001b[0m\n\u001b[0;32m    981\u001b[0m     ray_params \u001b[39m=\u001b[39m ray\u001b[39m.\u001b[39m_private\u001b[39m.\u001b[39mparameter\u001b[39m.\u001b[39mRayParams(\n\u001b[0;32m    982\u001b[0m         node_ip_address\u001b[39m=\u001b[39mnode_ip_address,\n\u001b[0;32m    983\u001b[0m         raylet_ip_address\u001b[39m=\u001b[39mraylet_ip_address,\n\u001b[1;32m   (...)\u001b[0m\n\u001b[0;32m   1016\u001b[0m         tracing_startup_hook\u001b[39m=\u001b[39m_tracing_startup_hook,\n\u001b[0;32m   1017\u001b[0m     )\n\u001b[0;32m   1018\u001b[0m     \u001b[39m# Start the Ray processes. We set shutdown_at_exit=False because we\u001b[39;00m\n\u001b[0;32m   1019\u001b[0m     \u001b[39m# shutdown the node in the ray.shutdown call that happens in the atexit\u001b[39;00m\n\u001b[0;32m   1020\u001b[0m     \u001b[39m# handler. We still spawn a reaper process in case the atexit handler\u001b[39;00m\n\u001b[0;32m   1021\u001b[0m     \u001b[39m# isn't called.\u001b[39;00m\n\u001b[1;32m-> 1022\u001b[0m     _global_node \u001b[39m=\u001b[39m ray\u001b[39m.\u001b[39;49mnode\u001b[39m.\u001b[39;49mNode(\n\u001b[0;32m   1023\u001b[0m         head\u001b[39m=\u001b[39;49m\u001b[39mTrue\u001b[39;49;00m, shutdown_at_exit\u001b[39m=\u001b[39;49m\u001b[39mFalse\u001b[39;49;00m, spawn_reaper\u001b[39m=\u001b[39;49m\u001b[39mTrue\u001b[39;49;00m, ray_params\u001b[39m=\u001b[39;49mray_params\n\u001b[0;32m   1024\u001b[0m     )\n\u001b[0;32m   1025\u001b[0m \u001b[39melse\u001b[39;00m:\n\u001b[0;32m   1026\u001b[0m     \u001b[39m# In this case, we are connecting to an existing cluster.\u001b[39;00m\n\u001b[0;32m   1027\u001b[0m     \u001b[39mif\u001b[39;00m num_cpus \u001b[39mis\u001b[39;00m \u001b[39mnot\u001b[39;00m \u001b[39mNone\u001b[39;00m \u001b[39mor\u001b[39;00m num_gpus \u001b[39mis\u001b[39;00m \u001b[39mnot\u001b[39;00m \u001b[39mNone\u001b[39;00m:\n",
      "File \u001b[1;32m~\\AppData\\Local\\Packages\\PythonSoftwareFoundation.Python.3.9_qbz5n2kfra8p0\\LocalCache\\local-packages\\Python39\\site-packages\\ray\\node.py:270\u001b[0m, in \u001b[0;36mNode.__init__\u001b[1;34m(self, ray_params, head, shutdown_at_exit, spawn_reaper, connect_only)\u001b[0m\n\u001b[0;32m    268\u001b[0m \u001b[39m# Start processes.\u001b[39;00m\n\u001b[0;32m    269\u001b[0m \u001b[39mif\u001b[39;00m head:\n\u001b[1;32m--> 270\u001b[0m     \u001b[39mself\u001b[39;49m\u001b[39m.\u001b[39;49mstart_head_processes()\n\u001b[0;32m    271\u001b[0m     \u001b[39m# Make sure GCS is up.\u001b[39;00m\n\u001b[0;32m    272\u001b[0m     \u001b[39mself\u001b[39m\u001b[39m.\u001b[39mget_gcs_client()\u001b[39m.\u001b[39minternal_kv_put(\n\u001b[0;32m    273\u001b[0m         \u001b[39mb\u001b[39m\u001b[39m\"\u001b[39m\u001b[39msession_name\u001b[39m\u001b[39m\"\u001b[39m,\n\u001b[0;32m    274\u001b[0m         \u001b[39mself\u001b[39m\u001b[39m.\u001b[39msession_name\u001b[39m.\u001b[39mencode(),\n\u001b[0;32m    275\u001b[0m         \u001b[39mTrue\u001b[39;00m,\n\u001b[0;32m    276\u001b[0m         ray_constants\u001b[39m.\u001b[39mKV_NAMESPACE_SESSION,\n\u001b[0;32m    277\u001b[0m     )\n",
      "File \u001b[1;32m~\\AppData\\Local\\Packages\\PythonSoftwareFoundation.Python.3.9_qbz5n2kfra8p0\\LocalCache\\local-packages\\Python39\\site-packages\\ray\\node.py:1092\u001b[0m, in \u001b[0;36mNode.start_head_processes\u001b[1;34m(self)\u001b[0m\n\u001b[0;32m   1089\u001b[0m \u001b[39mself\u001b[39m\u001b[39m.\u001b[39m_write_cluster_info_to_kv()\n\u001b[0;32m   1091\u001b[0m \u001b[39mif\u001b[39;00m \u001b[39mnot\u001b[39;00m \u001b[39mself\u001b[39m\u001b[39m.\u001b[39m_ray_params\u001b[39m.\u001b[39mno_monitor:\n\u001b[1;32m-> 1092\u001b[0m     \u001b[39mself\u001b[39;49m\u001b[39m.\u001b[39;49mstart_monitor()\n\u001b[0;32m   1094\u001b[0m \u001b[39mif\u001b[39;00m \u001b[39mself\u001b[39m\u001b[39m.\u001b[39m_ray_params\u001b[39m.\u001b[39mray_client_server_port:\n\u001b[0;32m   1095\u001b[0m     \u001b[39mself\u001b[39m\u001b[39m.\u001b[39mstart_ray_client_server()\n",
      "File \u001b[1;32m~\\AppData\\Local\\Packages\\PythonSoftwareFoundation.Python.3.9_qbz5n2kfra8p0\\LocalCache\\local-packages\\Python39\\site-packages\\ray\\node.py:1024\u001b[0m, in \u001b[0;36mNode.start_monitor\u001b[1;34m(self)\u001b[0m\n\u001b[0;32m   1017\u001b[0m \u001b[39m\"\"\"Start the monitor.\u001b[39;00m\n\u001b[0;32m   1018\u001b[0m \n\u001b[0;32m   1019\u001b[0m \u001b[39mAutoscaling output goes to these monitor.err/out files, and\u001b[39;00m\n\u001b[0;32m   1020\u001b[0m \u001b[39many modification to these files may break existing\u001b[39;00m\n\u001b[0;32m   1021\u001b[0m \u001b[39mcluster launching commands.\u001b[39;00m\n\u001b[0;32m   1022\u001b[0m \u001b[39m\"\"\"\u001b[39;00m\n\u001b[0;32m   1023\u001b[0m stdout_file, stderr_file \u001b[39m=\u001b[39m \u001b[39mself\u001b[39m\u001b[39m.\u001b[39mget_log_file_handles(\u001b[39m\"\u001b[39m\u001b[39mmonitor\u001b[39m\u001b[39m\"\u001b[39m, unique\u001b[39m=\u001b[39m\u001b[39mTrue\u001b[39;00m)\n\u001b[1;32m-> 1024\u001b[0m process_info \u001b[39m=\u001b[39m ray\u001b[39m.\u001b[39;49m_private\u001b[39m.\u001b[39;49mservices\u001b[39m.\u001b[39;49mstart_monitor(\n\u001b[0;32m   1025\u001b[0m     \u001b[39mself\u001b[39;49m\u001b[39m.\u001b[39;49mredis_address,\n\u001b[0;32m   1026\u001b[0m     \u001b[39mself\u001b[39;49m\u001b[39m.\u001b[39;49mgcs_address,\n\u001b[0;32m   1027\u001b[0m     \u001b[39mself\u001b[39;49m\u001b[39m.\u001b[39;49m_logs_dir,\n\u001b[0;32m   1028\u001b[0m     stdout_file\u001b[39m=\u001b[39;49mstdout_file,\n\u001b[0;32m   1029\u001b[0m     stderr_file\u001b[39m=\u001b[39;49mstderr_file,\n\u001b[0;32m   1030\u001b[0m     autoscaling_config\u001b[39m=\u001b[39;49m\u001b[39mself\u001b[39;49m\u001b[39m.\u001b[39;49m_ray_params\u001b[39m.\u001b[39;49mautoscaling_config,\n\u001b[0;32m   1031\u001b[0m     redis_password\u001b[39m=\u001b[39;49m\u001b[39mself\u001b[39;49m\u001b[39m.\u001b[39;49m_ray_params\u001b[39m.\u001b[39;49mredis_password,\n\u001b[0;32m   1032\u001b[0m     fate_share\u001b[39m=\u001b[39;49m\u001b[39mself\u001b[39;49m\u001b[39m.\u001b[39;49mkernel_fate_share,\n\u001b[0;32m   1033\u001b[0m     max_bytes\u001b[39m=\u001b[39;49m\u001b[39mself\u001b[39;49m\u001b[39m.\u001b[39;49mmax_bytes,\n\u001b[0;32m   1034\u001b[0m     backup_count\u001b[39m=\u001b[39;49m\u001b[39mself\u001b[39;49m\u001b[39m.\u001b[39;49mbackup_count,\n\u001b[0;32m   1035\u001b[0m     monitor_ip\u001b[39m=\u001b[39;49m\u001b[39mself\u001b[39;49m\u001b[39m.\u001b[39;49m_node_ip_address,\n\u001b[0;32m   1036\u001b[0m )\n\u001b[0;32m   1037\u001b[0m \u001b[39massert\u001b[39;00m ray_constants\u001b[39m.\u001b[39mPROCESS_TYPE_MONITOR \u001b[39mnot\u001b[39;00m \u001b[39min\u001b[39;00m \u001b[39mself\u001b[39m\u001b[39m.\u001b[39mall_processes\n\u001b[0;32m   1038\u001b[0m \u001b[39mself\u001b[39m\u001b[39m.\u001b[39mall_processes[ray_constants\u001b[39m.\u001b[39mPROCESS_TYPE_MONITOR] \u001b[39m=\u001b[39m [process_info]\n",
      "File \u001b[1;32m~\\AppData\\Local\\Packages\\PythonSoftwareFoundation.Python.3.9_qbz5n2kfra8p0\\LocalCache\\local-packages\\Python39\\site-packages\\ray\\_private\\services.py:2122\u001b[0m, in \u001b[0;36mstart_monitor\u001b[1;34m(redis_address, gcs_address, logs_dir, stdout_file, stderr_file, autoscaling_config, redis_password, fate_share, max_bytes, backup_count, monitor_ip)\u001b[0m\n\u001b[0;32m   2120\u001b[0m \u001b[39mif\u001b[39;00m monitor_ip:\n\u001b[0;32m   2121\u001b[0m     command\u001b[39m.\u001b[39mappend(\u001b[39m\"\u001b[39m\u001b[39m--monitor-ip=\u001b[39m\u001b[39m\"\u001b[39m \u001b[39m+\u001b[39m monitor_ip)\n\u001b[1;32m-> 2122\u001b[0m process_info \u001b[39m=\u001b[39m start_ray_process(\n\u001b[0;32m   2123\u001b[0m     command,\n\u001b[0;32m   2124\u001b[0m     ray_constants\u001b[39m.\u001b[39;49mPROCESS_TYPE_MONITOR,\n\u001b[0;32m   2125\u001b[0m     stdout_file\u001b[39m=\u001b[39;49mstdout_file,\n\u001b[0;32m   2126\u001b[0m     stderr_file\u001b[39m=\u001b[39;49mstderr_file,\n\u001b[0;32m   2127\u001b[0m     fate_share\u001b[39m=\u001b[39;49mfate_share,\n\u001b[0;32m   2128\u001b[0m )\n\u001b[0;32m   2129\u001b[0m \u001b[39mreturn\u001b[39;00m process_info\n",
      "File \u001b[1;32m~\\AppData\\Local\\Packages\\PythonSoftwareFoundation.Python.3.9_qbz5n2kfra8p0\\LocalCache\\local-packages\\Python39\\site-packages\\ray\\_private\\services.py:776\u001b[0m, in \u001b[0;36mstart_ray_process\u001b[1;34m(command, process_type, fate_share, env_updates, cwd, use_valgrind, use_gdb, use_valgrind_profiler, use_perftools_profiler, use_tmux, stdout_file, stderr_file, pipe_stdin)\u001b[0m\n\u001b[0;32m    774\u001b[0m \u001b[39mif\u001b[39;00m win32_fate_sharing:\n\u001b[0;32m    775\u001b[0m     \u001b[39mtry\u001b[39;00m:\n\u001b[1;32m--> 776\u001b[0m         ray\u001b[39m.\u001b[39;49m_private\u001b[39m.\u001b[39;49mutils\u001b[39m.\u001b[39;49mset_kill_child_on_death_win32(process)\n\u001b[0;32m    777\u001b[0m         psutil\u001b[39m.\u001b[39mProcess(process\u001b[39m.\u001b[39mpid)\u001b[39m.\u001b[39mresume()\n\u001b[0;32m    778\u001b[0m     \u001b[39mexcept\u001b[39;00m (psutil\u001b[39m.\u001b[39mError, \u001b[39mOSError\u001b[39;00m):\n",
      "File \u001b[1;32m~\\AppData\\Local\\Packages\\PythonSoftwareFoundation.Python.3.9_qbz5n2kfra8p0\\LocalCache\\local-packages\\Python39\\site-packages\\ray\\_private\\utils.py:827\u001b[0m, in \u001b[0;36mset_kill_child_on_death_win32\u001b[1;34m(child_proc)\u001b[0m\n\u001b[0;32m    824\u001b[0m     \u001b[39mif\u001b[39;00m \u001b[39mnot\u001b[39;00m win32_AssignProcessToJobObject(win32_job, \u001b[39mint\u001b[39m(child_proc)):\n\u001b[0;32m    825\u001b[0m         \u001b[39mimport\u001b[39;00m \u001b[39mctypes\u001b[39;00m\n\u001b[1;32m--> 827\u001b[0m         \u001b[39mraise\u001b[39;00m \u001b[39mOSError\u001b[39;00m(ctypes\u001b[39m.\u001b[39mget_last_error(), \u001b[39m\"\u001b[39m\u001b[39mAssignProcessToJobObject() failed\u001b[39m\u001b[39m\"\u001b[39m)\n\u001b[0;32m    828\u001b[0m \u001b[39melse\u001b[39;00m:\n\u001b[0;32m    829\u001b[0m     \u001b[39massert\u001b[39;00m \u001b[39mFalse\u001b[39;00m, \u001b[39m\"\u001b[39m\u001b[39mAssignProcessToJobObject used despite being unavailable\u001b[39m\u001b[39m\"\u001b[39m\n",
      "\u001b[1;31mOSError\u001b[0m: [Errno 0] AssignProcessToJobObject() failed"
     ]
    }
   ],
   "source": [
    "import modin.pandas as pd\n",
    "import ray\n",
    "ray.init()\n",
    "rdf = pd.read_csv('Parking_Violations_2015.csv')"
   ]
  }
 ],
 "metadata": {
  "kernelspec": {
   "display_name": "Python 3.9.13 64-bit (windows store)",
   "language": "python",
   "name": "python3"
  },
  "language_info": {
   "codemirror_mode": {
    "name": "ipython",
    "version": 3
   },
   "file_extension": ".py",
   "mimetype": "text/x-python",
   "name": "python",
   "nbconvert_exporter": "python",
   "pygments_lexer": "ipython3",
   "version": "3.9.13"
  },
  "orig_nbformat": 4,
  "vscode": {
   "interpreter": {
    "hash": "8ad3b4ca62056b0ddf6609e8c0d475b5225220fb28d68e3e23627eb1e1c7d9eb"
   }
  }
 },
 "nbformat": 4,
 "nbformat_minor": 2
}
