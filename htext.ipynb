{
 "cells": [
  {
   "cell_type": "markdown",
   "metadata": {},
   "source": [
    "# Handling text file"
   ]
  },
  {
   "cell_type": "code",
   "execution_count": 10,
   "metadata": {},
   "outputs": [],
   "source": [
    "import pandas as pd"
   ]
  },
  {
   "cell_type": "markdown",
   "metadata": {},
   "source": [
    "Count rows in validated test file"
   ]
  },
  {
   "cell_type": "code",
   "execution_count": 12,
   "metadata": {},
   "outputs": [
    {
     "name": "stdout",
     "output_type": "stream",
     "text": [
      "Total lines in validation file 11809234\n"
     ]
    }
   ],
   "source": [
    "with open('validated.txt', 'r') as bf:\n",
    "    for count, line in enumerate(bf):\n",
    "        pass\n",
    "print('Total lines in validation file', count+1)"
   ]
  },
  {
   "cell_type": "markdown",
   "metadata": {},
   "source": [
    "Count coulmns in text file"
   ]
  },
  {
   "cell_type": "code",
   "execution_count": 2,
   "metadata": {},
   "outputs": [
    {
     "name": "stdout",
     "output_type": "stream",
     "text": [
      "43 columns\n"
     ]
    }
   ],
   "source": [
    "import csv\n",
    "with open(\"validated.txt\") as f:\n",
    "  line = f.readline()\n",
    "print (len(line.split('|')), \"columns\")"
   ]
  },
  {
   "cell_type": "markdown",
   "metadata": {},
   "source": [
    "GZIP the text file"
   ]
  },
  {
   "cell_type": "code",
   "execution_count": 1,
   "metadata": {},
   "outputs": [],
   "source": [
    "import gzip\n",
    "import shutil\n",
    "\n",
    "with open('validated.txt', 'rb') as infile:\n",
    "    with gzip.open('validated.txt.gz', 'wb') as outfile:\n",
    "        shutil.copyfileobj(infile, outfile)\n"
   ]
  }
 ],
 "metadata": {
  "kernelspec": {
   "display_name": "Python 3.9.13 64-bit (windows store)",
   "language": "python",
   "name": "python3"
  },
  "language_info": {
   "codemirror_mode": {
    "name": "ipython",
    "version": 3
   },
   "file_extension": ".py",
   "mimetype": "text/x-python",
   "name": "python",
   "nbconvert_exporter": "python",
   "pygments_lexer": "ipython3",
   "version": "3.9.13"
  },
  "orig_nbformat": 4,
  "vscode": {
   "interpreter": {
    "hash": "8ad3b4ca62056b0ddf6609e8c0d475b5225220fb28d68e3e23627eb1e1c7d9eb"
   }
  }
 },
 "nbformat": 4,
 "nbformat_minor": 2
}
