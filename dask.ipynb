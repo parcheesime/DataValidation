{
 "cells": [
  {
   "cell_type": "markdown",
   "metadata": {},
   "source": [
    "# File ingestion and schema validation\n",
    "\n",
    "## Dask data frame\n",
    "\n",
    "> [dask]('https://www.dask.org/')\n",
    "\n",
    "\n",
    "Perform basic validation on data columns : eg: remove special character , white spaces from the col name\n",
    "\n",
    "Create Schema in YAML\n",
    "\n",
    "Validate the file with YAML\n",
    "\n"
   ]
  },
  {
   "cell_type": "code",
   "execution_count": 7,
   "metadata": {},
   "outputs": [],
   "source": [
    "#from dask.distributed import Client\n",
    "#client = Client()\n",
    "#client"
   ]
  },
  {
   "cell_type": "code",
   "execution_count": 8,
   "metadata": {},
   "outputs": [],
   "source": [
    "#client.shutdown()"
   ]
  },
  {
   "cell_type": "code",
   "execution_count": 9,
   "metadata": {},
   "outputs": [],
   "source": [
    "import dask.dataframe as dd\n",
    "from dask.diagnostics import ProgressBar\n",
    "import logging\n",
    "import os\n",
    "import subprocess\n",
    "import yaml\n",
    "import pandas as pd\n",
    "import datetime \n",
    "import gc\n",
    "import re\n",
    "import csv"
   ]
  },
  {
   "cell_type": "markdown",
   "metadata": {},
   "source": [
    "> YAML Configuration file write and read"
   ]
  },
  {
   "cell_type": "code",
   "execution_count": 10,
   "metadata": {},
   "outputs": [
    {
     "name": "stdout",
     "output_type": "stream",
     "text": [
      "Overwriting file.yaml\n"
     ]
    }
   ],
   "source": [
    "%%writefile file.yaml\n",
    "file_type: csv\n",
    "dataset_name: Parking_Violations\n",
    "file_name: Parking_Violations_2016\n",
    "inbound_deliminater: ','\n",
    "outbound_deliminater: '|'\n",
    "skip_leading_rows: 1\n",
    "columns:\n",
    "   - summons_number \n",
    "   - plate_id \n",
    "   - registration_state\n",
    "   - plate_type      \n",
    "   - issue_date\n",
    "   - violation_code \n",
    "   - vehicle_body_type\n",
    "   - vehicle_make      \n",
    "   - issuing_agency\n",
    "   - street_code1\n",
    "   - street_code2\n",
    "   - street_code3       \n",
    "   - vehicle_expiration_date \n",
    "   - violation_location\n",
    "   - violation_precinct\n",
    "   - issuer_precinct\n",
    "   - issuer_code \n",
    "   - issuer_command \n",
    "   - issuer_squad\n",
    "   - violation_time \n",
    "   - time_first_observed \n",
    "   - violation_county\n",
    "   - violation_in_front_of_or_opposite\n",
    "   - house_number\n",
    "   - street_name \n",
    "   - intersecting_street \n",
    "   - date_first_observed \n",
    "   - law_section\n",
    "   - sub_division \n",
    "   - violation_legal_code\n",
    "   - days_parking_in_effect\n",
    "   - from_hours_in_effect \n",
    "   - to_hours_in_effect\n",
    "   - vehicle_color\n",
    "   - unregistered_vehicle\n",
    "   - vehicle_year\n",
    "   - meter_number\n",
    "   - feet_from_curb \n",
    "   - violation_post_code \n",
    "   - violation_description\n",
    "   - no_standing_or_stopping_violation \n",
    "   - hydrant_violation\n",
    "   - double_parking_violation"
   ]
  },
  {
   "cell_type": "code",
   "execution_count": 11,
   "metadata": {},
   "outputs": [],
   "source": [
    "import yaml\n",
    "with open('file.yaml', 'r') as f:\n",
    "    file = yaml.safe_load(f)\n",
    "    file"
   ]
  },
  {
   "cell_type": "markdown",
   "metadata": {},
   "source": [
    "Check yaml file"
   ]
  },
  {
   "cell_type": "code",
   "execution_count": 12,
   "metadata": {},
   "outputs": [
    {
     "data": {
      "text/plain": [
       "','"
      ]
     },
     "execution_count": 12,
     "metadata": {},
     "output_type": "execute_result"
    }
   ],
   "source": [
    "file['inbound_deliminater']"
   ]
  },
  {
   "cell_type": "code",
   "execution_count": 13,
   "metadata": {},
   "outputs": [
    {
     "data": {
      "text/plain": [
       "['summons_number',\n",
       " 'plate_id',\n",
       " 'registration_state',\n",
       " 'plate_type',\n",
       " 'issue_date',\n",
       " 'violation_code',\n",
       " 'vehicle_body_type',\n",
       " 'vehicle_make',\n",
       " 'issuing_agency',\n",
       " 'street_code1',\n",
       " 'street_code2',\n",
       " 'street_code3',\n",
       " 'vehicle_expiration_date',\n",
       " 'violation_location',\n",
       " 'violation_precinct',\n",
       " 'issuer_precinct',\n",
       " 'issuer_code',\n",
       " 'issuer_command',\n",
       " 'issuer_squad',\n",
       " 'violation_time',\n",
       " 'time_first_observed',\n",
       " 'violation_county',\n",
       " 'violation_in_front_of_or_opposite',\n",
       " 'house_number',\n",
       " 'street_name',\n",
       " 'intersecting_street',\n",
       " 'date_first_observed',\n",
       " 'law_section',\n",
       " 'sub_division',\n",
       " 'violation_legal_code',\n",
       " 'days_parking_in_effect',\n",
       " 'from_hours_in_effect',\n",
       " 'to_hours_in_effect',\n",
       " 'vehicle_color',\n",
       " 'unregistered_vehicle',\n",
       " 'vehicle_year',\n",
       " 'meter_number',\n",
       " 'feet_from_curb',\n",
       " 'violation_post_code',\n",
       " 'violation_description',\n",
       " 'no_standing_or_stopping_violation',\n",
       " 'hydrant_violation',\n",
       " 'double_parking_violation']"
      ]
     },
     "execution_count": 13,
     "metadata": {},
     "output_type": "execute_result"
    }
   ],
   "source": [
    "file['columns']"
   ]
  },
  {
   "cell_type": "markdown",
   "metadata": {},
   "source": [
    "> Read and inspect CSV file\n",
    "\n",
    "Track load times"
   ]
  },
  {
   "cell_type": "code",
   "execution_count": 1,
   "metadata": {},
   "outputs": [],
   "source": [
    "import dask.dataframe as dd\n",
    "import tracemalloc\n",
    "tracemalloc.start()\n",
    "dfd = dd.read_csv('Parking_Violations_2015.csv', delimiter=',')\n",
    "dfd\n",
    "snapshot=tracemalloc.take_snapshot()\n",
    "tracemalloc.stop()\n"
   ]
  },
  {
   "cell_type": "code",
   "execution_count": 9,
   "metadata": {},
   "outputs": [
    {
     "name": "stdout",
     "output_type": "stream",
     "text": [
      "300 memory blocks: 18.2 KiB\n",
      "  File \"C:\\Users\\nunto\\AppData\\Local\\Packages\\PythonSoftwareFoundation.Python.3.9_qbz5n2kfra8p0\\LocalCache\\local-packages\\Python39\\site-packages\\pandas\\core\\internals\\managers.py\", line 1024\n",
      "    bp = BlockPlacement(slice(0, len(values)))\n"
     ]
    }
   ],
   "source": [
    "top_stats=snapshot.statistics('traceback')\n",
    "# pick the biggest memory block\n",
    "stat = top_stats[0]\n",
    "print(\"%s memory blocks: %.1f KiB\" % (stat.count, stat.size / 1024))\n",
    "for line in stat.traceback.format():\n",
    "    print(line)"
   ]
  },
  {
   "cell_type": "markdown",
   "metadata": {},
   "source": [
    "Explore Data"
   ]
  },
  {
   "cell_type": "code",
   "execution_count": 15,
   "metadata": {},
   "outputs": [
    {
     "data": {
      "text/plain": [
       "Index(['Summons Number', 'Plate ID', 'Registration State', 'Plate Type',\n",
       "       'Issue Date', 'Violation Code', 'Vehicle Body Type', 'Vehicle Make',\n",
       "       'Issuing Agency', 'Street Code1', 'Street Code2', 'Street Code3',\n",
       "       'Vehicle Expiration Date', 'Violation Location', 'Violation Precinct',\n",
       "       'Issuer Precinct', 'Issuer Code', 'Issuer Command', 'Issuer Squad',\n",
       "       'Violation Time', 'Time First Observed', 'Violation County',\n",
       "       'Violation In Front Of Or Opposite', 'House Number', 'Street Name',\n",
       "       'Intersecting Street', 'Date First Observed', 'Law Section',\n",
       "       'Sub Division', 'Violation Legal Code', 'Days Parking In Effect    ',\n",
       "       'From Hours In Effect', 'To Hours In Effect', 'Vehicle Color',\n",
       "       'Unregistered Vehicle?', 'Vehicle Year', 'Meter Number',\n",
       "       'Feet From Curb', 'Violation Post Code', 'Violation Description',\n",
       "       'No Standing or Stopping Violation', 'Hydrant Violation',\n",
       "       'Double Parking Violation', 'Latitude', 'Longitude', 'Community Board',\n",
       "       'Community Council ', 'Census Tract', 'BIN', 'BBL', 'NTA'],\n",
       "      dtype='object')"
      ]
     },
     "execution_count": 15,
     "metadata": {},
     "output_type": "execute_result"
    }
   ],
   "source": [
    "dfd.columns"
   ]
  },
  {
   "cell_type": "code",
   "execution_count": 16,
   "metadata": {},
   "outputs": [
    {
     "data": {
      "text/plain": [
       "Summons Number                         int64\n",
       "Plate ID                              object\n",
       "Registration State                    object\n",
       "Plate Type                            object\n",
       "Issue Date                            object\n",
       "Violation Code                         int64\n",
       "Vehicle Body Type                     object\n",
       "Vehicle Make                          object\n",
       "Issuing Agency                        object\n",
       "Street Code1                           int64\n",
       "Street Code2                           int64\n",
       "Street Code3                           int64\n",
       "Vehicle Expiration Date               object\n",
       "Violation Location                     int64\n",
       "Violation Precinct                     int64\n",
       "Issuer Precinct                        int64\n",
       "Issuer Code                            int64\n",
       "Issuer Command                        object\n",
       "Issuer Squad                          object\n",
       "Violation Time                        object\n",
       "Time First Observed                  float64\n",
       "Violation County                      object\n",
       "Violation In Front Of Or Opposite     object\n",
       "House Number                          object\n",
       "Street Name                           object\n",
       "Intersecting Street                   object\n",
       "Date First Observed                   object\n",
       "Law Section                            int64\n",
       "Sub Division                          object\n",
       "Violation Legal Code                 float64\n",
       "Days Parking In Effect                object\n",
       "From Hours In Effect                  object\n",
       "To Hours In Effect                    object\n",
       "Vehicle Color                         object\n",
       "Unregistered Vehicle?                float64\n",
       "Vehicle Year                           int64\n",
       "Meter Number                         float64\n",
       "Feet From Curb                         int64\n",
       "Violation Post Code                   object\n",
       "Violation Description                 object\n",
       "No Standing or Stopping Violation    float64\n",
       "Hydrant Violation                    float64\n",
       "Double Parking Violation             float64\n",
       "Latitude                             float64\n",
       "Longitude                            float64\n",
       "Community Board                      float64\n",
       "Community Council                    float64\n",
       "Census Tract                         float64\n",
       "BIN                                  float64\n",
       "BBL                                  float64\n",
       "NTA                                  float64\n",
       "dtype: object"
      ]
     },
     "execution_count": 16,
     "metadata": {},
     "output_type": "execute_result"
    }
   ],
   "source": [
    "dfd.dtypes"
   ]
  },
  {
   "cell_type": "markdown",
   "metadata": {},
   "source": [
    "### Perform Basic Validation on Data Columns\n",
    "\n",
    "- Validate csv file with yaml"
   ]
  },
  {
   "cell_type": "markdown",
   "metadata": {},
   "source": [
    "Drop unwanted columns"
   ]
  },
  {
   "cell_type": "code",
   "execution_count": 17,
   "metadata": {},
   "outputs": [],
   "source": [
    "dfd=dfd.drop([\"BIN\", \"BBL\", \"NTA\"], axis=1)\n",
    "dfd=dfd.drop([\"Latitude\", \"Longitude\", \"Community Board\", \"Community Council \", \"Census Tract\"], axis=1)"
   ]
  },
  {
   "cell_type": "markdown",
   "metadata": {},
   "source": [
    "> Remove special characters and white space from data columns"
   ]
  },
  {
   "cell_type": "code",
   "execution_count": 18,
   "metadata": {},
   "outputs": [],
   "source": [
    "def val_data_col():\n",
    "    # clean up df columns #\n",
    "    dfd.columns=dfd.columns.str.replace('[?]', '')\n",
    "    dfd.columns=dfd.columns.str.strip()\n",
    "    dfd.columns=dfd.columns.str.replace('[ ]', '_')\n",
    "    dfd.columns=dfd.columns.str.lower()\n",
    "    # compare yaml columns with df columns #\n",
    "    expected_columns = list(file['columns'])\n",
    "    if len(dfd.columns) == len(expected_columns) and list(dfd.columns) == expected_columns:\n",
    "        print('column name and column length validation passed')\n",
    "        mismatched_columns_file = list(set(dfd.columns).difference(expected_columns))\n",
    "        print(\"Following File columns are not in the YAML file\",mismatched_columns_file)\n",
    "        missing_YAML_file = list(set(expected_columns).difference(dfd.columns))\n",
    "        print(\"Following YAML columns are not in the file uploaded\",missing_YAML_file)\n",
    "        logging.info(f'df columns: {dfd.columns}')\n",
    "        logging.info(f'expected columns: {expected_columns}')\n",
    "        return 1\n",
    "    else:\n",
    "        print('column name and column length validation failed')\n",
    "\n",
    "    return 0"
   ]
  },
  {
   "cell_type": "code",
   "execution_count": 19,
   "metadata": {},
   "outputs": [
    {
     "name": "stdout",
     "output_type": "stream",
     "text": [
      "column name and column length validation passed\n",
      "Following File columns are not in the YAML file []\n",
      "Following YAML columns are not in the file uploaded []\n"
     ]
    },
    {
     "name": "stderr",
     "output_type": "stream",
     "text": [
      "C:\\Users\\nunto\\AppData\\Local\\Temp\\ipykernel_28160\\630901633.py:3: FutureWarning: The default value of regex will change from True to False in a future version.\n",
      "  dfd.columns=dfd.columns.str.replace('[?]', '')\n",
      "C:\\Users\\nunto\\AppData\\Local\\Temp\\ipykernel_28160\\630901633.py:5: FutureWarning: The default value of regex will change from True to False in a future version.\n",
      "  dfd.columns=dfd.columns.str.replace('[ ]', '_')\n"
     ]
    },
    {
     "data": {
      "text/plain": [
       "1"
      ]
     },
     "execution_count": 19,
     "metadata": {},
     "output_type": "execute_result"
    }
   ],
   "source": [
    "val_data_col()"
   ]
  },
  {
   "cell_type": "markdown",
   "metadata": {},
   "source": [
    "Check dataframe"
   ]
  },
  {
   "cell_type": "code",
   "execution_count": 20,
   "metadata": {},
   "outputs": [
    {
     "data": {
      "text/plain": [
       "summons_number                         int64\n",
       "plate_id                              object\n",
       "registration_state                    object\n",
       "plate_type                            object\n",
       "issue_date                            object\n",
       "violation_code                         int64\n",
       "vehicle_body_type                     object\n",
       "vehicle_make                          object\n",
       "issuing_agency                        object\n",
       "street_code1                           int64\n",
       "street_code2                           int64\n",
       "street_code3                           int64\n",
       "vehicle_expiration_date               object\n",
       "violation_location                     int64\n",
       "violation_precinct                     int64\n",
       "issuer_precinct                        int64\n",
       "issuer_code                            int64\n",
       "issuer_command                        object\n",
       "issuer_squad                          object\n",
       "violation_time                        object\n",
       "time_first_observed                  float64\n",
       "violation_county                      object\n",
       "violation_in_front_of_or_opposite     object\n",
       "house_number                          object\n",
       "street_name                           object\n",
       "intersecting_street                   object\n",
       "date_first_observed                   object\n",
       "law_section                            int64\n",
       "sub_division                          object\n",
       "violation_legal_code                 float64\n",
       "days_parking_in_effect                object\n",
       "from_hours_in_effect                  object\n",
       "to_hours_in_effect                    object\n",
       "vehicle_color                         object\n",
       "unregistered_vehicle                 float64\n",
       "vehicle_year                           int64\n",
       "meter_number                         float64\n",
       "feet_from_curb                         int64\n",
       "violation_post_code                   object\n",
       "violation_description                 object\n",
       "no_standing_or_stopping_violation    float64\n",
       "hydrant_violation                    float64\n",
       "double_parking_violation             float64\n",
       "dtype: object"
      ]
     },
     "execution_count": 20,
     "metadata": {},
     "output_type": "execute_result"
    }
   ],
   "source": [
    "dfd.dtypes"
   ]
  }
 ],
 "metadata": {
  "kernelspec": {
   "display_name": "Python 3.9.13 64-bit (windows store)",
   "language": "python",
   "name": "python3"
  },
  "language_info": {
   "codemirror_mode": {
    "name": "ipython",
    "version": 3
   },
   "file_extension": ".py",
   "mimetype": "text/x-python",
   "name": "python",
   "nbconvert_exporter": "python",
   "pygments_lexer": "ipython3",
   "version": "3.9.13"
  },
  "orig_nbformat": 4,
  "vscode": {
   "interpreter": {
    "hash": "8ad3b4ca62056b0ddf6609e8c0d475b5225220fb28d68e3e23627eb1e1c7d9eb"
   }
  }
 },
 "nbformat": 4,
 "nbformat_minor": 2
}
